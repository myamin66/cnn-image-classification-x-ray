{
  "nbformat": 4,
  "nbformat_minor": 0,
  "metadata": {
    "colab": {
      "name": "021-19-0029_Assignment_3_ML.ipynb",
      "provenance": []
    },
    "kernelspec": {
      "name": "python3",
      "display_name": "Python 3"
    },
    "language_info": {
      "name": "python"
    },
    "accelerator": "GPU"
  },
  "cells": [
    {
      "cell_type": "markdown",
      "source": [
        "# Mounting Drive"
      ],
      "metadata": {
        "id": "kgD6jvtEqV5B"
      }
    },
    {
      "cell_type": "code",
      "execution_count": 1,
      "metadata": {
        "colab": {
          "base_uri": "https://localhost:8080/"
        },
        "id": "pLIad7ylMbCt",
        "outputId": "21e79335-a42c-4c48-b56d-69fa0183e41c"
      },
      "outputs": [
        {
          "output_type": "stream",
          "name": "stdout",
          "text": [
            "Mounted at /content/drive\n"
          ]
        }
      ],
      "source": [
        "from google.colab import drive\n",
        "drive.mount('/content/drive')"
      ]
    },
    {
      "cell_type": "markdown",
      "source": [
        "#Link for dataset on drive"
      ],
      "metadata": {
        "id": "BASpAFf24HU5"
      }
    },
    {
      "cell_type": "code",
      "source": [
        "new_base_dir = '/content/drive/MyDrive/Colab Notebooks/datasets/chest_xray'"
      ],
      "metadata": {
        "id": "v8Tm2qNCiUvG"
      },
      "execution_count": 14,
      "outputs": []
    },
    {
      "cell_type": "markdown",
      "source": [
        "# Getting 300 images from each of the two classes (total 600) from dataset"
      ],
      "metadata": {
        "id": "4EZ5Ic763PDP"
      }
    },
    {
      "cell_type": "code",
      "source": [
        "from tensorflow.keras.utils import image_dataset_from_directory\n",
        "\n",
        "train_dataset = image_dataset_from_directory(\n",
        "    new_base_dir +\"/train\",\n",
        "    validation_split=0.885,\n",
        "    subset=\"training\",\n",
        "    seed=1,\n",
        "    image_size=(180, 180),\n",
        "    batch_size=256)\n",
        "validation_dataset = image_dataset_from_directory(\n",
        "    new_base_dir + \"/validation\",\n",
        "    image_size=(180, 180),\n",
        "    batch_size=256)\n",
        "test_dataset = image_dataset_from_directory(\n",
        "    new_base_dir +\"/test\",\n",
        "    image_size=(180, 180),\n",
        "    batch_size=256)"
      ],
      "metadata": {
        "colab": {
          "base_uri": "https://localhost:8080/"
        },
        "id": "fc7sjt8WZlJT",
        "outputId": "e51502df-65c9-4547-8bc9-b02f87114537"
      },
      "execution_count": 24,
      "outputs": [
        {
          "output_type": "stream",
          "name": "stdout",
          "text": [
            "Found 5216 files belonging to 2 classes.\n",
            "Using 600 files for training.\n",
            "Found 16 files belonging to 2 classes.\n",
            "Found 624 files belonging to 2 classes.\n"
          ]
        }
      ]
    },
    {
      "cell_type": "markdown",
      "source": [
        "#Checking Shape"
      ],
      "metadata": {
        "id": "sppzppkf4QPe"
      }
    },
    {
      "cell_type": "code",
      "source": [
        "for data_batch, labels_batch in train_dataset:\n",
        "    print(\"data batch shape:\", data_batch.shape)\n",
        "    print(\"labels batch shape:\", labels_batch.shape)\n",
        "    break"
      ],
      "metadata": {
        "colab": {
          "base_uri": "https://localhost:8080/"
        },
        "id": "6L8m-2_2x4SW",
        "outputId": "c65b4e99-b7a6-44be-ffee-d5e55315f38f"
      },
      "execution_count": 29,
      "outputs": [
        {
          "output_type": "stream",
          "name": "stdout",
          "text": [
            "data batch shape: (256, 180, 180, 3)\n",
            "labels batch shape: (256,)\n"
          ]
        }
      ]
    },
    {
      "cell_type": "markdown",
      "source": [
        "# Define a CNN with four Convolution Layers (16, 32, 64, 128) with kernal size 3."
      ],
      "metadata": {
        "id": "6OZeHqjcixQ_"
      }
    },
    {
      "cell_type": "code",
      "source": [
        "from tensorflow import keras\n",
        "from tensorflow.keras import layers\n",
        "import tensorflow as tf\n",
        "inputs = keras.Input(shape=(180, 180, 3))\n",
        "x = layers.Rescaling(1./255)(inputs)\n",
        "x = layers.Conv2D(filters=16, kernel_size=3, activation=\"relu\")(x)\n",
        "x = layers.MaxPooling2D(pool_size=2)(x)\n",
        "x = layers.Conv2D(filters=32, kernel_size=3, activation=\"relu\")(x)\n",
        "x = layers.MaxPooling2D(pool_size=2)(x)\n",
        "x = layers.Conv2D(filters=64, kernel_size=3, activation=\"relu\")(x)\n",
        "x = layers.MaxPooling2D(pool_size=2)(x)\n",
        "x = layers.Conv2D(filters=128, kernel_size=3, activation=\"relu\")(x)\n",
        "x = layers.Flatten()(x)"
      ],
      "metadata": {
        "id": "TdRShAoIz8BV"
      },
      "execution_count": 39,
      "outputs": []
    },
    {
      "cell_type": "markdown",
      "source": [
        "# Apply appropriate activation function at the last layer"
      ],
      "metadata": {
        "id": "-Zik11d33GNH"
      }
    },
    {
      "cell_type": "code",
      "source": [
        "outputs = layers.Dense(1, activation=\"sigmoid\")(x)\n",
        "model = keras.Model(inputs=inputs, outputs=outputs)"
      ],
      "metadata": {
        "id": "Edv7_0q91uT8"
      },
      "execution_count": 47,
      "outputs": []
    },
    {
      "cell_type": "markdown",
      "source": [
        "# compile the model"
      ],
      "metadata": {
        "id": "pY1QQwzp3TGI"
      }
    },
    {
      "cell_type": "code",
      "source": [
        "model.compile(loss=\"binary_crossentropy\",\n",
        "              optimizer=\"rmsprop\",\n",
        "              metrics=[\"accuracy\"])"
      ],
      "metadata": {
        "id": "TzFuHl8S10kW"
      },
      "execution_count": 48,
      "outputs": []
    },
    {
      "cell_type": "code",
      "source": [
        "\n",
        "callbacks = [\n",
        "    keras.callbacks.ModelCheckpoint(\n",
        "        filepath=\"convnet_from_scratch.keras\",\n",
        "        save_best_only=True,\n",
        "        monitor=\"val_loss\")\n",
        "]"
      ],
      "metadata": {
        "id": "7OLfRvnAZlPB"
      },
      "execution_count": 49,
      "outputs": []
    },
    {
      "cell_type": "markdown",
      "source": [
        "# training model on 50 epochs using previous 600 images"
      ],
      "metadata": {
        "id": "sxQc7KAz36PN"
      }
    },
    {
      "cell_type": "code",
      "source": [
        "history = model.fit(\n",
        "    train_dataset,\n",
        "    epochs=50,\n",
        "    validation_data=validation_dataset,\n",
        "    callbacks = callbacks)"
      ],
      "metadata": {
        "colab": {
          "base_uri": "https://localhost:8080/"
        },
        "id": "_-Ndktf21Uxz",
        "outputId": "63d24050-6da0-4b54-ff64-a6bdd314f8fb"
      },
      "execution_count": 52,
      "outputs": [
        {
          "output_type": "stream",
          "name": "stdout",
          "text": [
            "Epoch 1/50\n",
            "3/3 [==============================] - 4s 187ms/step - loss: 0.1566 - accuracy: 0.9350 - val_loss: 6.3392 - val_accuracy: 0.5000\n",
            "Epoch 2/50\n",
            "3/3 [==============================] - 4s 182ms/step - loss: 1.3627 - accuracy: 0.8517 - val_loss: 0.5125 - val_accuracy: 0.7500\n",
            "Epoch 3/50\n",
            "3/3 [==============================] - 4s 161ms/step - loss: 0.0985 - accuracy: 0.9733 - val_loss: 1.0519 - val_accuracy: 0.6250\n",
            "Epoch 4/50\n",
            "3/3 [==============================] - 4s 169ms/step - loss: 0.0691 - accuracy: 0.9800 - val_loss: 1.6232 - val_accuracy: 0.6250\n",
            "Epoch 5/50\n",
            "3/3 [==============================] - 4s 170ms/step - loss: 0.1927 - accuracy: 0.9100 - val_loss: 0.5843 - val_accuracy: 0.6875\n",
            "Epoch 6/50\n",
            "3/3 [==============================] - 4s 163ms/step - loss: 0.0662 - accuracy: 0.9833 - val_loss: 0.6485 - val_accuracy: 0.6875\n",
            "Epoch 7/50\n",
            "3/3 [==============================] - 4s 167ms/step - loss: 0.0532 - accuracy: 0.9850 - val_loss: 1.6357 - val_accuracy: 0.6250\n",
            "Epoch 8/50\n",
            "3/3 [==============================] - 4s 172ms/step - loss: 0.0834 - accuracy: 0.9717 - val_loss: 0.5770 - val_accuracy: 0.6875\n",
            "Epoch 9/50\n",
            "3/3 [==============================] - 4s 162ms/step - loss: 0.0425 - accuracy: 0.9833 - val_loss: 1.2106 - val_accuracy: 0.6250\n",
            "Epoch 10/50\n",
            "3/3 [==============================] - 4s 186ms/step - loss: 0.0548 - accuracy: 0.9817 - val_loss: 0.4072 - val_accuracy: 0.8750\n",
            "Epoch 11/50\n",
            "3/3 [==============================] - 4s 170ms/step - loss: 0.0395 - accuracy: 0.9833 - val_loss: 1.1643 - val_accuracy: 0.6875\n",
            "Epoch 12/50\n",
            "3/3 [==============================] - 4s 185ms/step - loss: 0.0638 - accuracy: 0.9750 - val_loss: 0.3766 - val_accuracy: 0.8125\n",
            "Epoch 13/50\n",
            "3/3 [==============================] - 4s 179ms/step - loss: 0.2186 - accuracy: 0.9033 - val_loss: 1.2824 - val_accuracy: 0.6250\n",
            "Epoch 14/50\n",
            "3/3 [==============================] - 4s 173ms/step - loss: 0.0626 - accuracy: 0.9817 - val_loss: 0.3991 - val_accuracy: 0.8750\n",
            "Epoch 15/50\n",
            "3/3 [==============================] - 4s 177ms/step - loss: 0.0567 - accuracy: 0.9817 - val_loss: 0.8716 - val_accuracy: 0.6875\n",
            "Epoch 16/50\n",
            "3/3 [==============================] - 4s 164ms/step - loss: 0.0328 - accuracy: 0.9900 - val_loss: 1.6670 - val_accuracy: 0.6250\n",
            "Epoch 17/50\n",
            "3/3 [==============================] - 4s 167ms/step - loss: 0.0555 - accuracy: 0.9850 - val_loss: 0.4356 - val_accuracy: 0.9375\n",
            "Epoch 18/50\n",
            "3/3 [==============================] - 4s 161ms/step - loss: 0.0718 - accuracy: 0.9667 - val_loss: 1.3741 - val_accuracy: 0.6250\n",
            "Epoch 19/50\n",
            "3/3 [==============================] - 4s 178ms/step - loss: 0.0573 - accuracy: 0.9800 - val_loss: 0.4633 - val_accuracy: 0.8750\n",
            "Epoch 20/50\n",
            "3/3 [==============================] - 4s 164ms/step - loss: 0.0513 - accuracy: 0.9783 - val_loss: 1.5339 - val_accuracy: 0.6250\n",
            "Epoch 21/50\n",
            "3/3 [==============================] - 4s 179ms/step - loss: 0.1321 - accuracy: 0.9450 - val_loss: 0.4477 - val_accuracy: 0.8750\n",
            "Epoch 22/50\n",
            "3/3 [==============================] - 4s 168ms/step - loss: 0.2345 - accuracy: 0.9250 - val_loss: 0.7336 - val_accuracy: 0.6875\n",
            "Epoch 23/50\n",
            "3/3 [==============================] - 4s 173ms/step - loss: 0.0421 - accuracy: 0.9883 - val_loss: 0.7117 - val_accuracy: 0.6875\n",
            "Epoch 24/50\n",
            "3/3 [==============================] - 4s 170ms/step - loss: 0.0235 - accuracy: 0.9967 - val_loss: 0.5214 - val_accuracy: 0.9375\n",
            "Epoch 25/50\n",
            "3/3 [==============================] - 4s 173ms/step - loss: 0.0206 - accuracy: 0.9967 - val_loss: 0.5766 - val_accuracy: 0.7500\n",
            "Epoch 26/50\n",
            "3/3 [==============================] - 4s 174ms/step - loss: 0.0129 - accuracy: 0.9983 - val_loss: 2.0025 - val_accuracy: 0.6250\n",
            "Epoch 27/50\n",
            "3/3 [==============================] - 4s 174ms/step - loss: 0.2481 - accuracy: 0.9067 - val_loss: 0.8911 - val_accuracy: 0.6875\n",
            "Epoch 28/50\n",
            "3/3 [==============================] - 5s 222ms/step - loss: 0.0396 - accuracy: 0.9883 - val_loss: 0.7491 - val_accuracy: 0.6875\n",
            "Epoch 29/50\n",
            "3/3 [==============================] - 4s 169ms/step - loss: 0.0182 - accuracy: 0.9950 - val_loss: 0.8000 - val_accuracy: 0.6875\n",
            "Epoch 30/50\n",
            "3/3 [==============================] - 4s 168ms/step - loss: 0.0151 - accuracy: 0.9967 - val_loss: 0.6728 - val_accuracy: 0.7500\n",
            "Epoch 31/50\n",
            "3/3 [==============================] - 4s 178ms/step - loss: 0.0105 - accuracy: 1.0000 - val_loss: 1.6477 - val_accuracy: 0.6250\n",
            "Epoch 32/50\n",
            "3/3 [==============================] - 4s 175ms/step - loss: 0.0510 - accuracy: 0.9817 - val_loss: 0.5510 - val_accuracy: 0.8750\n",
            "Epoch 33/50\n",
            "3/3 [==============================] - 4s 175ms/step - loss: 0.0179 - accuracy: 0.9917 - val_loss: 0.7731 - val_accuracy: 0.6875\n",
            "Epoch 34/50\n",
            "3/3 [==============================] - 4s 161ms/step - loss: 0.0086 - accuracy: 1.0000 - val_loss: 0.9761 - val_accuracy: 0.6875\n",
            "Epoch 35/50\n",
            "3/3 [==============================] - 4s 171ms/step - loss: 0.0067 - accuracy: 0.9983 - val_loss: 1.4891 - val_accuracy: 0.6875\n",
            "Epoch 36/50\n",
            "3/3 [==============================] - 4s 163ms/step - loss: 0.0087 - accuracy: 0.9967 - val_loss: 0.7104 - val_accuracy: 0.8125\n",
            "Epoch 37/50\n",
            "3/3 [==============================] - 4s 172ms/step - loss: 0.0569 - accuracy: 0.9850 - val_loss: 35.4844 - val_accuracy: 0.5000\n",
            "Epoch 38/50\n",
            "3/3 [==============================] - 4s 166ms/step - loss: 8.2939 - accuracy: 0.8567 - val_loss: 0.7108 - val_accuracy: 0.6875\n",
            "Epoch 39/50\n",
            "3/3 [==============================] - 4s 166ms/step - loss: 0.0255 - accuracy: 0.9967 - val_loss: 0.8967 - val_accuracy: 0.6875\n",
            "Epoch 40/50\n",
            "3/3 [==============================] - 4s 173ms/step - loss: 0.0214 - accuracy: 0.9950 - val_loss: 0.5871 - val_accuracy: 0.6875\n",
            "Epoch 41/50\n",
            "3/3 [==============================] - 4s 168ms/step - loss: 0.0140 - accuracy: 0.9983 - val_loss: 0.4180 - val_accuracy: 0.9375\n",
            "Epoch 42/50\n",
            "3/3 [==============================] - 4s 174ms/step - loss: 0.0194 - accuracy: 0.9950 - val_loss: 1.5665 - val_accuracy: 0.6250\n",
            "Epoch 43/50\n",
            "3/3 [==============================] - 4s 178ms/step - loss: 0.0366 - accuracy: 0.9867 - val_loss: 0.7076 - val_accuracy: 0.6875\n",
            "Epoch 44/50\n",
            "3/3 [==============================] - 4s 174ms/step - loss: 0.0097 - accuracy: 1.0000 - val_loss: 0.8133 - val_accuracy: 0.6875\n",
            "Epoch 45/50\n",
            "3/3 [==============================] - 4s 174ms/step - loss: 0.0075 - accuracy: 1.0000 - val_loss: 0.7146 - val_accuracy: 0.7500\n",
            "Epoch 46/50\n",
            "3/3 [==============================] - 4s 191ms/step - loss: 0.0067 - accuracy: 1.0000 - val_loss: 0.3127 - val_accuracy: 0.9375\n",
            "Epoch 47/50\n",
            "3/3 [==============================] - 4s 176ms/step - loss: 0.0136 - accuracy: 0.9983 - val_loss: 0.8379 - val_accuracy: 0.7500\n",
            "Epoch 48/50\n",
            "3/3 [==============================] - 4s 178ms/step - loss: 0.0059 - accuracy: 1.0000 - val_loss: 0.3810 - val_accuracy: 0.9375\n",
            "Epoch 49/50\n",
            "3/3 [==============================] - 4s 179ms/step - loss: 0.0106 - accuracy: 1.0000 - val_loss: 2.6542 - val_accuracy: 0.6250\n",
            "Epoch 50/50\n",
            "3/3 [==============================] - 4s 165ms/step - loss: 0.1176 - accuracy: 0.9450 - val_loss: 0.3769 - val_accuracy: 0.8750\n"
          ]
        }
      ]
    },
    {
      "cell_type": "markdown",
      "source": [
        "# plot accuracy graph for training and validation"
      ],
      "metadata": {
        "id": "yQab7bE4u1h9"
      }
    },
    {
      "cell_type": "code",
      "source": [
        "import matplotlib.pyplot as plt\n",
        "accuracy = history.history[\"accuracy\"]\n",
        "val_accuracy = history.history[\"val_accuracy\"]\n",
        "loss = history.history[\"loss\"]\n",
        "val_loss = history.history[\"val_loss\"]\n",
        "epochs = range(1, len(accuracy) + 1)\n",
        "plt.plot(epochs, accuracy, \"bo\", label=\"Training accuracy\")\n",
        "plt.plot(epochs, val_accuracy, \"b\", label=\"Validation accuracy\")\n",
        "plt.title(\"Training and validation accuracy\")\n",
        "plt.legend()\n",
        "plt.figure()\n",
        "plt.plot(epochs, loss, \"bo\", label=\"Training loss\")\n",
        "plt.plot(epochs, val_loss, \"b\", label=\"Validation loss\")\n",
        "plt.title(\"Training and validation loss\")\n",
        "plt.legend()\n",
        "plt.show()"
      ],
      "metadata": {
        "id": "cfIJltdSZlTN",
        "colab": {
          "base_uri": "https://localhost:8080/",
          "height": 545
        },
        "outputId": "22b09cd8-0341-4bc3-d04e-c67e603b8af9"
      },
      "execution_count": 53,
      "outputs": [
        {
          "output_type": "display_data",
          "data": {
            "text/plain": [
              "<Figure size 432x288 with 1 Axes>"
            ],
            "image/png": "[encoded data removed]"
          },
          "metadata": {
            "needs_background": "light"
          }
        },
        {
          "output_type": "display_data",
          "data": {
            "text/plain": [
              "<Figure size 432x288 with 1 Axes>"
            ],
            "image/png": "[encoded data removed]"
          },
          "metadata": {
            "needs_background": "light"
          }
        }
      ]
    },
    {
      "cell_type": "markdown",
      "source": [
        "# Revising Training, Changin epochs to 17 because there is maximun validation accuracy"
      ],
      "metadata": {
        "id": "85A-24tHuaRs"
      }
    },
    {
      "cell_type": "code",
      "source": [
        "history = model.fit(\n",
        "    train_dataset,\n",
        "    epochs=17,\n",
        "    validation_data=validation_dataset,\n",
        "    callbacks = callbacks)"
      ],
      "metadata": {
        "id": "EDbVWoCYZlad",
        "colab": {
          "base_uri": "https://localhost:8080/"
        },
        "outputId": "f683b05e-9653-4757-b6c6-87b6af81976f"
      },
      "execution_count": 57,
      "outputs": [
        {
          "output_type": "stream",
          "name": "stdout",
          "text": [
            "Epoch 1/17\n",
            "3/3 [==============================] - 4s 177ms/step - loss: 0.5626 - accuracy: 0.8750 - val_loss: 0.5688 - val_accuracy: 0.7500\n",
            "Epoch 2/17\n",
            "3/3 [==============================] - 4s 176ms/step - loss: 0.0082 - accuracy: 0.9983 - val_loss: 0.6327 - val_accuracy: 0.7500\n",
            "Epoch 3/17\n",
            "3/3 [==============================] - 4s 174ms/step - loss: 0.0050 - accuracy: 1.0000 - val_loss: 0.7279 - val_accuracy: 0.7500\n",
            "Epoch 4/17\n",
            "3/3 [==============================] - 5s 173ms/step - loss: 0.0033 - accuracy: 1.0000 - val_loss: 0.6428 - val_accuracy: 0.7500\n",
            "Epoch 5/17\n",
            "3/3 [==============================] - 4s 176ms/step - loss: 0.0024 - accuracy: 1.0000 - val_loss: 0.8152 - val_accuracy: 0.7500\n",
            "Epoch 6/17\n",
            "3/3 [==============================] - 4s 170ms/step - loss: 0.0017 - accuracy: 1.0000 - val_loss: 0.8374 - val_accuracy: 0.7500\n",
            "Epoch 7/17\n",
            "3/3 [==============================] - 4s 172ms/step - loss: 0.0013 - accuracy: 1.0000 - val_loss: 0.9415 - val_accuracy: 0.7500\n",
            "Epoch 8/17\n",
            "3/3 [==============================] - 4s 171ms/step - loss: 9.7515e-04 - accuracy: 1.0000 - val_loss: 0.8999 - val_accuracy: 0.7500\n",
            "Epoch 9/17\n",
            "3/3 [==============================] - 4s 176ms/step - loss: 8.2314e-04 - accuracy: 1.0000 - val_loss: 1.5007 - val_accuracy: 0.6875\n",
            "Epoch 10/17\n",
            "3/3 [==============================] - 4s 165ms/step - loss: 8.2216e-04 - accuracy: 1.0000 - val_loss: 1.0408 - val_accuracy: 0.6875\n",
            "Epoch 11/17\n",
            "3/3 [==============================] - 4s 173ms/step - loss: 6.5391e-04 - accuracy: 1.0000 - val_loss: 1.1427 - val_accuracy: 0.6875\n",
            "Epoch 12/17\n",
            "3/3 [==============================] - 4s 169ms/step - loss: 5.1276e-04 - accuracy: 1.0000 - val_loss: 1.3823 - val_accuracy: 0.6875\n",
            "Epoch 13/17\n",
            "3/3 [==============================] - 4s 176ms/step - loss: 4.7210e-04 - accuracy: 1.0000 - val_loss: 1.4996 - val_accuracy: 0.6875\n",
            "Epoch 14/17\n",
            "3/3 [==============================] - 4s 178ms/step - loss: 3.8567e-04 - accuracy: 1.0000 - val_loss: 0.7991 - val_accuracy: 0.8750\n",
            "Epoch 15/17\n",
            "3/3 [==============================] - 4s 172ms/step - loss: 9.6478e-04 - accuracy: 1.0000 - val_loss: 1.0378 - val_accuracy: 0.6875\n",
            "Epoch 16/17\n",
            "3/3 [==============================] - 4s 176ms/step - loss: 3.6731e-04 - accuracy: 1.0000 - val_loss: 1.2344 - val_accuracy: 0.6875\n",
            "Epoch 17/17\n",
            "3/3 [==============================] - 4s 168ms/step - loss: 2.8598e-04 - accuracy: 1.0000 - val_loss: 1.6525 - val_accuracy: 0.6875\n"
          ]
        }
      ]
    },
    {
      "cell_type": "markdown",
      "source": [
        "# evaluate model on the test dataset and report test accuracy "
      ],
      "metadata": {
        "id": "29xuQA6vuqLx"
      }
    },
    {
      "cell_type": "code",
      "source": [
        "test_model = keras.models.load_model(\"convnet_from_scratch.keras\")\n",
        "test_loss, test_acc = test_model.evaluate(test_dataset)\n",
        "print(f\"Test accuracy: {test_acc:.3f}\")"
      ],
      "metadata": {
        "id": "x0QILhgNZldj",
        "colab": {
          "base_uri": "https://localhost:8080/"
        },
        "outputId": "653d87f5-412f-4b69-8c46-0075fdbdc906"
      },
      "execution_count": 58,
      "outputs": [
        {
          "output_type": "stream",
          "name": "stdout",
          "text": [
            "3/3 [==============================] - 188s 242ms/step - loss: 2.0102 - accuracy: 0.7324\n",
            "Test accuracy: 0.732\n"
          ]
        }
      ]
    }
  ]
}